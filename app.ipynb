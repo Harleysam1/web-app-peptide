{
 "cells": [
  {
   "cell_type": "code",
   "execution_count": 1,
   "id": "529303f9-b24f-4beb-a54c-921926a7fa59",
   "metadata": {},
   "outputs": [
    {
     "ename": "ModuleNotFoundError",
     "evalue": "No module named 'scikeras'",
     "output_type": "error",
     "traceback": [
      "\u001b[1;31m---------------------------------------------------------------------------\u001b[0m",
      "\u001b[1;31mModuleNotFoundError\u001b[0m                       Traceback (most recent call last)",
      "Cell \u001b[1;32mIn[1], line 2\u001b[0m\n\u001b[0;32m      1\u001b[0m \u001b[38;5;28;01mfrom\u001b[39;00m \u001b[38;5;21;01mflask\u001b[39;00m \u001b[38;5;28;01mimport\u001b[39;00m Flask, render_template, request\n\u001b[1;32m----> 2\u001b[0m \u001b[38;5;28;01mfrom\u001b[39;00m \u001b[38;5;21;01mscikeras\u001b[39;00m\u001b[38;5;21;01m.\u001b[39;00m\u001b[38;5;21;01mwrappers\u001b[39;00m \u001b[38;5;28;01mimport\u001b[39;00m KerasClassifier\n\u001b[0;32m      3\u001b[0m \u001b[38;5;28;01mfrom\u001b[39;00m \u001b[38;5;21;01mkeras\u001b[39;00m\u001b[38;5;21;01m.\u001b[39;00m\u001b[38;5;21;01mmodels\u001b[39;00m \u001b[38;5;28;01mimport\u001b[39;00m load_model\n",
      "\u001b[1;31mModuleNotFoundError\u001b[0m: No module named 'scikeras'"
     ]
    }
   ],
   "source": [
    "from flask import Flask, render_template, request\n",
    "from scikeras.wrappers import KerasClassifier\n",
    "from keras.models import load_model"
   ]
  },
  {
   "cell_type": "code",
   "execution_count": null,
   "id": "5bbaba8b-58cc-4ad8-be9f-0d1f5ef20d82",
   "metadata": {
    "tags": []
   },
   "outputs": [],
   "source": [
    "app = Flask(__name__, template_folder='templates')\n",
    "model_ABP = load_model('final_ABP.h5')\n",
    "final_model_ABP = KerasClassifier(model_ABP)"
   ]
  },
  {
   "cell_type": "code",
   "execution_count": null,
   "id": "1dd481d4-392d-43ce-b2ee-4f9811babb48",
   "metadata": {},
   "outputs": [],
   "source": [
    "@app.route('/')\n",
    "def Home():\n",
    "    return render_template(\"index.html\")"
   ]
  },
  {
   "cell_type": "code",
   "execution_count": null,
   "id": "3b89b07c-2b23-40ff-9e63-1452bfafc005",
   "metadata": {},
   "outputs": [],
   "source": [
    "@app.route('/', methods=['POST'])\n",
    "def Submit():\n",
    "    text = request.form['text']\n",
    "    text_list = text.upper().split(\",\")\n",
    "    output_ABP = final_model_ABP.predict(text_list)\n",
    "    print(output_ABP)\n",
    "    return render_template(\"output.html\")"
   ]
  },
  {
   "cell_type": "code",
   "execution_count": null,
   "id": "4ab91686-5b7c-4535-a70c-a57bfa5c44dc",
   "metadata": {
    "tags": []
   },
   "outputs": [],
   "source": [
    "app.run(host='localhost',port='8081')"
   ]
  }
 ],
 "metadata": {
  "kernelspec": {
   "display_name": "Python 3 (ipykernel)",
   "language": "python",
   "name": "python3"
  },
  "language_info": {
   "codemirror_mode": {
    "name": "ipython",
    "version": 3
   },
   "file_extension": ".py",
   "mimetype": "text/x-python",
   "name": "python",
   "nbconvert_exporter": "python",
   "pygments_lexer": "ipython3",
   "version": "3.9.13"
  }
 },
 "nbformat": 4,
 "nbformat_minor": 5
}
